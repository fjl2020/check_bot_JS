{
 "cells": [
  {
   "cell_type": "code",
   "execution_count": 1,
   "metadata": {},
   "outputs": [
    {
     "name": "stdout",
     "output_type": "stream",
     "text": [
      "100000.0\n"
     ]
    },
    {
     "data": {
      "text/html": [
       "<div><style>\n",
       ".dataframe > thead > tr,\n",
       ".dataframe > tbody > tr {\n",
       "  text-align: right;\n",
       "  white-space: pre-wrap;\n",
       "}\n",
       "</style>\n",
       "<small>shape: (216, 8)</small><table border=\"1\" class=\"dataframe\"><thead><tr><th>Ticket</th><th>Símbolo</th><th>Volumen</th><th>Precio</th><th>Ganancia</th><th>Magic Number</th><th>Fecha/Hora</th><th>Comentario</th></tr><tr><td>i64</td><td>str</td><td>f64</td><td>f64</td><td>f64</td><td>i64</td><td>datetime[ms]</td><td>str</td></tr></thead><tbody><tr><td>635506106</td><td>&quot;EURUSD&quot;</td><td>0.01</td><td>1.04805</td><td>-5.32</td><td>90</td><td>2024-12-02 17:44:05</td><td>&quot;[sl 1.04810]&quot;</td></tr><tr><td>635508570</td><td>&quot;EURUSD&quot;</td><td>0.01</td><td>1.04796</td><td>5.27</td><td>99</td><td>2024-12-02 17:45:18</td><td>&quot;[tp 1.04796]&quot;</td></tr><tr><td>636266923</td><td>&quot;EURJPY&quot;</td><td>0.01</td><td>157.64</td><td>-5.28</td><td>71</td><td>2024-12-03 11:05:01</td><td>&quot;[sl 157.632]&quot;</td></tr><tr><td>636278516</td><td>&quot;EURJPY&quot;</td><td>0.01</td><td>157.784</td><td>-5.28</td><td>70</td><td>2024-12-03 11:08:58</td><td>&quot;[sl 157.777]&quot;</td></tr><tr><td>636300886</td><td>&quot;AUDUSD&quot;</td><td>0.01</td><td>0.64984</td><td>-3.23</td><td>41</td><td>2024-12-03 11:21:34</td><td>&quot;[sl 0.64984]&quot;</td></tr><tr><td>&hellip;</td><td>&hellip;</td><td>&hellip;</td><td>&hellip;</td><td>&hellip;</td><td>&hellip;</td><td>&hellip;</td><td>&hellip;</td></tr><tr><td>644293881</td><td>&quot;XAGUSD&quot;</td><td>0.01</td><td>32.08</td><td>-8.0</td><td>201</td><td>2024-12-12 07:20:40</td><td>&quot;[sl 32.07960]&quot;</td></tr><tr><td>644309519</td><td>&quot;NZDJPY&quot;</td><td>0.01</td><td>88.543</td><td>-2.9</td><td>111</td><td>2024-12-12 08:32:11</td><td>&quot;[sl 88.541]&quot;</td></tr><tr><td>644312613</td><td>&quot;XAGUSD&quot;</td><td>0.01</td><td>32.1</td><td>8.0</td><td>200</td><td>2024-12-12 08:39:17</td><td>&quot;[tp 32.09970]&quot;</td></tr><tr><td>644367052</td><td>&quot;NZDUSD&quot;</td><td>0.01</td><td>0.58156</td><td>-2.91</td><td>60</td><td>2024-12-12 10:08:48</td><td>&quot;[sl 0.58155]&quot;</td></tr><tr><td>644370181</td><td>&quot;XAUUSD&quot;</td><td>0.01</td><td>2720.09</td><td>13.6</td><td>210</td><td>2024-12-12 10:12:25</td><td>&quot;[tp 2720.063]&quot;</td></tr></tbody></table></div>"
      ],
      "text/plain": [
       "shape: (216, 8)\n",
       "┌───────────┬─────────┬─────────┬─────────┬──────────┬──────────────┬───────────────┬──────────────┐\n",
       "│ Ticket    ┆ Símbolo ┆ Volumen ┆ Precio  ┆ Ganancia ┆ Magic Number ┆ Fecha/Hora    ┆ Comentario   │\n",
       "│ ---       ┆ ---     ┆ ---     ┆ ---     ┆ ---      ┆ ---          ┆ ---           ┆ ---          │\n",
       "│ i64       ┆ str     ┆ f64     ┆ f64     ┆ f64      ┆ i64          ┆ datetime[ms]  ┆ str          │\n",
       "╞═══════════╪═════════╪═════════╪═════════╪══════════╪══════════════╪═══════════════╪══════════════╡\n",
       "│ 635506106 ┆ EURUSD  ┆ 0.01    ┆ 1.04805 ┆ -5.32    ┆ 90           ┆ 2024-12-02    ┆ [sl 1.04810] │\n",
       "│           ┆         ┆         ┆         ┆          ┆              ┆ 17:44:05      ┆              │\n",
       "│ 635508570 ┆ EURUSD  ┆ 0.01    ┆ 1.04796 ┆ 5.27     ┆ 99           ┆ 2024-12-02    ┆ [tp 1.04796] │\n",
       "│           ┆         ┆         ┆         ┆          ┆              ┆ 17:45:18      ┆              │\n",
       "│ 636266923 ┆ EURJPY  ┆ 0.01    ┆ 157.64  ┆ -5.28    ┆ 71           ┆ 2024-12-03    ┆ [sl 157.632] │\n",
       "│           ┆         ┆         ┆         ┆          ┆              ┆ 11:05:01      ┆              │\n",
       "│ 636278516 ┆ EURJPY  ┆ 0.01    ┆ 157.784 ┆ -5.28    ┆ 70           ┆ 2024-12-03    ┆ [sl 157.777] │\n",
       "│           ┆         ┆         ┆         ┆          ┆              ┆ 11:08:58      ┆              │\n",
       "│ 636300886 ┆ AUDUSD  ┆ 0.01    ┆ 0.64984 ┆ -3.23    ┆ 41           ┆ 2024-12-03    ┆ [sl 0.64984] │\n",
       "│           ┆         ┆         ┆         ┆          ┆              ┆ 11:21:34      ┆              │\n",
       "│ …         ┆ …       ┆ …       ┆ …       ┆ …        ┆ …            ┆ …             ┆ …            │\n",
       "│ 644293881 ┆ XAGUSD  ┆ 0.01    ┆ 32.08   ┆ -8.0     ┆ 201          ┆ 2024-12-12    ┆ [sl          │\n",
       "│           ┆         ┆         ┆         ┆          ┆              ┆ 07:20:40      ┆ 32.07960]    │\n",
       "│ 644309519 ┆ NZDJPY  ┆ 0.01    ┆ 88.543  ┆ -2.9     ┆ 111          ┆ 2024-12-12    ┆ [sl 88.541]  │\n",
       "│           ┆         ┆         ┆         ┆          ┆              ┆ 08:32:11      ┆              │\n",
       "│ 644312613 ┆ XAGUSD  ┆ 0.01    ┆ 32.1    ┆ 8.0      ┆ 200          ┆ 2024-12-12    ┆ [tp          │\n",
       "│           ┆         ┆         ┆         ┆          ┆              ┆ 08:39:17      ┆ 32.09970]    │\n",
       "│ 644367052 ┆ NZDUSD  ┆ 0.01    ┆ 0.58156 ┆ -2.91    ┆ 60           ┆ 2024-12-12    ┆ [sl 0.58155] │\n",
       "│           ┆         ┆         ┆         ┆          ┆              ┆ 10:08:48      ┆              │\n",
       "│ 644370181 ┆ XAUUSD  ┆ 0.01    ┆ 2720.09 ┆ 13.6     ┆ 210          ┆ 2024-12-12    ┆ [tp          │\n",
       "│           ┆         ┆         ┆         ┆          ┆              ┆ 10:12:25      ┆ 2720.063]    │\n",
       "└───────────┴─────────┴─────────┴─────────┴──────────┴──────────────┴───────────────┴──────────────┘"
      ]
     },
     "execution_count": 1,
     "metadata": {},
     "output_type": "execute_result"
    }
   ],
   "source": [
    "import polars as pl\n",
    "\n",
    "df = pl.read_excel(\"historico_trades_2024-12-15.xlsx\", sheet_name=\"Sheet1\")\n",
    "df = df.filter(pl.col(\"Ganancia\") != 0)\n",
    "\n",
    "ganancia_inicial = df.select(pl.col(\"Ganancia\")).to_numpy()[0][0]\n",
    "\n",
    "print(ganancia_inicial)\n",
    "\n",
    "df = df[1:]\n",
    "df"
   ]
  },
  {
   "cell_type": "code",
   "execution_count": 2,
   "metadata": {},
   "outputs": [
    {
     "name": "stdout",
     "output_type": "stream",
     "text": [
      "inicial 100000.0 sum_ganancia -155.12  ganancia final 99844.88\n"
     ]
    }
   ],
   "source": [
    "sum_ganancia =df['Ganancia'].sum()\n",
    "print(f\"inicial {ganancia_inicial} sum_ganancia {sum_ganancia}  ganancia final {ganancia_inicial+sum_ganancia}\")\n"
   ]
  },
  {
   "cell_type": "code",
   "execution_count": 18,
   "metadata": {},
   "outputs": [
    {
     "data": {
      "text/html": [
       "<div><style>\n",
       ".dataframe > thead > tr,\n",
       ".dataframe > tbody > tr {\n",
       "  text-align: right;\n",
       "  white-space: pre-wrap;\n",
       "}\n",
       "</style>\n",
       "<small>shape: (216, 12)</small><table border=\"1\" class=\"dataframe\"><thead><tr><th>Ticket</th><th>Símbolo</th><th>Volumen</th><th>Precio</th><th>Ganancia</th><th>Magic Number</th><th>Fecha/Hora</th><th>Comentario</th><th>trade_positivo</th><th>ganancia_positiva</th><th>trade_negativo</th><th>ganancia_negativa</th></tr><tr><td>i64</td><td>str</td><td>f64</td><td>f64</td><td>f64</td><td>i64</td><td>datetime[ms]</td><td>str</td><td>i32</td><td>f64</td><td>i32</td><td>f64</td></tr></thead><tbody><tr><td>635506106</td><td>&quot;EURUSD&quot;</td><td>0.01</td><td>1.04805</td><td>-5.32</td><td>90</td><td>2024-12-02 17:44:05</td><td>&quot;[sl 1.04810]&quot;</td><td>0</td><td>0.0</td><td>1</td><td>-5.32</td></tr><tr><td>635508570</td><td>&quot;EURUSD&quot;</td><td>0.01</td><td>1.04796</td><td>5.27</td><td>99</td><td>2024-12-02 17:45:18</td><td>&quot;[tp 1.04796]&quot;</td><td>1</td><td>5.27</td><td>0</td><td>0.0</td></tr><tr><td>636266923</td><td>&quot;EURJPY&quot;</td><td>0.01</td><td>157.64</td><td>-5.28</td><td>71</td><td>2024-12-03 11:05:01</td><td>&quot;[sl 157.632]&quot;</td><td>0</td><td>0.0</td><td>1</td><td>-5.28</td></tr><tr><td>636278516</td><td>&quot;EURJPY&quot;</td><td>0.01</td><td>157.784</td><td>-5.28</td><td>70</td><td>2024-12-03 11:08:58</td><td>&quot;[sl 157.777]&quot;</td><td>0</td><td>0.0</td><td>1</td><td>-5.28</td></tr><tr><td>636300886</td><td>&quot;AUDUSD&quot;</td><td>0.01</td><td>0.64984</td><td>-3.23</td><td>41</td><td>2024-12-03 11:21:34</td><td>&quot;[sl 0.64984]&quot;</td><td>0</td><td>0.0</td><td>1</td><td>-3.23</td></tr><tr><td>&hellip;</td><td>&hellip;</td><td>&hellip;</td><td>&hellip;</td><td>&hellip;</td><td>&hellip;</td><td>&hellip;</td><td>&hellip;</td><td>&hellip;</td><td>&hellip;</td><td>&hellip;</td><td>&hellip;</td></tr><tr><td>644293881</td><td>&quot;XAGUSD&quot;</td><td>0.01</td><td>32.08</td><td>-8.0</td><td>201</td><td>2024-12-12 07:20:40</td><td>&quot;[sl 32.07960]&quot;</td><td>0</td><td>0.0</td><td>1</td><td>-8.0</td></tr><tr><td>644309519</td><td>&quot;NZDJPY&quot;</td><td>0.01</td><td>88.543</td><td>-2.9</td><td>111</td><td>2024-12-12 08:32:11</td><td>&quot;[sl 88.541]&quot;</td><td>0</td><td>0.0</td><td>1</td><td>-2.9</td></tr><tr><td>644312613</td><td>&quot;XAGUSD&quot;</td><td>0.01</td><td>32.1</td><td>8.0</td><td>200</td><td>2024-12-12 08:39:17</td><td>&quot;[tp 32.09970]&quot;</td><td>1</td><td>8.0</td><td>0</td><td>0.0</td></tr><tr><td>644367052</td><td>&quot;NZDUSD&quot;</td><td>0.01</td><td>0.58156</td><td>-2.91</td><td>60</td><td>2024-12-12 10:08:48</td><td>&quot;[sl 0.58155]&quot;</td><td>0</td><td>0.0</td><td>1</td><td>-2.91</td></tr><tr><td>644370181</td><td>&quot;XAUUSD&quot;</td><td>0.01</td><td>2720.09</td><td>13.6</td><td>210</td><td>2024-12-12 10:12:25</td><td>&quot;[tp 2720.063]&quot;</td><td>1</td><td>13.6</td><td>0</td><td>0.0</td></tr></tbody></table></div>"
      ],
      "text/plain": [
       "shape: (216, 12)\n",
       "┌───────────┬─────────┬─────────┬─────────┬───┬─────────────┬────────────┬────────────┬────────────┐\n",
       "│ Ticket    ┆ Símbolo ┆ Volumen ┆ Precio  ┆ … ┆ trade_posit ┆ ganancia_p ┆ trade_nega ┆ ganancia_n │\n",
       "│ ---       ┆ ---     ┆ ---     ┆ ---     ┆   ┆ ivo         ┆ ositiva    ┆ tivo       ┆ egativa    │\n",
       "│ i64       ┆ str     ┆ f64     ┆ f64     ┆   ┆ ---         ┆ ---        ┆ ---        ┆ ---        │\n",
       "│           ┆         ┆         ┆         ┆   ┆ i32         ┆ f64        ┆ i32        ┆ f64        │\n",
       "╞═══════════╪═════════╪═════════╪═════════╪═══╪═════════════╪════════════╪════════════╪════════════╡\n",
       "│ 635506106 ┆ EURUSD  ┆ 0.01    ┆ 1.04805 ┆ … ┆ 0           ┆ 0.0        ┆ 1          ┆ -5.32      │\n",
       "│ 635508570 ┆ EURUSD  ┆ 0.01    ┆ 1.04796 ┆ … ┆ 1           ┆ 5.27       ┆ 0          ┆ 0.0        │\n",
       "│ 636266923 ┆ EURJPY  ┆ 0.01    ┆ 157.64  ┆ … ┆ 0           ┆ 0.0        ┆ 1          ┆ -5.28      │\n",
       "│ 636278516 ┆ EURJPY  ┆ 0.01    ┆ 157.784 ┆ … ┆ 0           ┆ 0.0        ┆ 1          ┆ -5.28      │\n",
       "│ 636300886 ┆ AUDUSD  ┆ 0.01    ┆ 0.64984 ┆ … ┆ 0           ┆ 0.0        ┆ 1          ┆ -3.23      │\n",
       "│ …         ┆ …       ┆ …       ┆ …       ┆ … ┆ …           ┆ …          ┆ …          ┆ …          │\n",
       "│ 644293881 ┆ XAGUSD  ┆ 0.01    ┆ 32.08   ┆ … ┆ 0           ┆ 0.0        ┆ 1          ┆ -8.0       │\n",
       "│ 644309519 ┆ NZDJPY  ┆ 0.01    ┆ 88.543  ┆ … ┆ 0           ┆ 0.0        ┆ 1          ┆ -2.9       │\n",
       "│ 644312613 ┆ XAGUSD  ┆ 0.01    ┆ 32.1    ┆ … ┆ 1           ┆ 8.0        ┆ 0          ┆ 0.0        │\n",
       "│ 644367052 ┆ NZDUSD  ┆ 0.01    ┆ 0.58156 ┆ … ┆ 0           ┆ 0.0        ┆ 1          ┆ -2.91      │\n",
       "│ 644370181 ┆ XAUUSD  ┆ 0.01    ┆ 2720.09 ┆ … ┆ 1           ┆ 13.6       ┆ 0          ┆ 0.0        │\n",
       "└───────────┴─────────┴─────────┴─────────┴───┴─────────────┴────────────┴────────────┴────────────┘"
      ]
     },
     "execution_count": 18,
     "metadata": {},
     "output_type": "execute_result"
    }
   ],
   "source": [
    "df = df.with_columns(\n",
    "    pl.when(pl.col('Ganancia')>0).then(1).otherwise(0).alias('trade_positivo'),\n",
    "    pl.when(pl.col('Ganancia')>0).then(pl.col('Ganancia')).otherwise(0).alias('ganancia_positiva'),\n",
    "    pl.when(pl.col('Ganancia')<0).then(1).otherwise(0).alias('trade_negativo'),\n",
    "    pl.when(pl.col('Ganancia')<0).then(pl.col('Ganancia')).otherwise(0).alias('ganancia_negativa'),)\n",
    "df"
   ]
  },
  {
   "cell_type": "code",
   "execution_count": 27,
   "metadata": {},
   "outputs": [
    {
     "name": "stdout",
     "output_type": "stream",
     "text": [
      "shape: (28, 13)\n",
      "┌────────┬────────────┬────────────┬────────────┬───┬────────────┬──────────┬──────────┬───────────┐\n",
      "│ Magic  ┆ trades_tot ┆ trades_pos ┆ trades_neg ┆ … ┆ avg_gananc ┆ pf       ┆ pct_win  ┆ win_loss_ │\n",
      "│ Number ┆ al         ┆ itivos     ┆ ativos     ┆   ┆ ia_negativ ┆ ---      ┆ ---      ┆ ratio     │\n",
      "│ ---    ┆ ---        ┆ ---        ┆ ---        ┆   ┆ a          ┆ f64      ┆ f64      ┆ ---       │\n",
      "│ i64    ┆ u32        ┆ i32        ┆ i32        ┆   ┆ ---        ┆          ┆          ┆ f64       │\n",
      "│        ┆            ┆            ┆            ┆   ┆ f64        ┆          ┆          ┆           │\n",
      "╞════════╪════════════╪════════════╪════════════╪═══╪════════════╪══════════╪══════════╪═══════════╡\n",
      "│ 10     ┆ 1          ┆ 1          ┆ 0          ┆ … ┆ 0.0        ┆ inf      ┆ 1.0      ┆ inf       │\n",
      "│ 11     ┆ 1          ┆ 1          ┆ 0          ┆ … ┆ 0.0        ┆ inf      ┆ 1.0      ┆ inf       │\n",
      "│ 20     ┆ 1          ┆ 0          ┆ 1          ┆ … ┆ -5.74      ┆ 0.0      ┆ 0.0      ┆ -0.0      │\n",
      "│ 21     ┆ 2          ┆ 1          ┆ 1          ┆ … ┆ -2.62      ┆ 1.0      ┆ 0.5      ┆ -1.009542 │\n",
      "│ 30     ┆ 8          ┆ 3          ┆ 5          ┆ … ┆ -2.01375   ┆ 0.6      ┆ 0.375    ┆ -0.605214 │\n",
      "│ …      ┆ …          ┆ …          ┆ …          ┆ … ┆ …          ┆ …        ┆ …        ┆ …         │\n",
      "│ 131    ┆ 12         ┆ 5          ┆ 7          ┆ … ┆ -2.915     ┆ 0.714286 ┆ 0.416667 ┆ -0.715552 │\n",
      "│ 200    ┆ 17         ┆ 12         ┆ 5          ┆ … ┆ -2.367647  ┆ 2.4      ┆ 0.705882 ┆ -2.361491 │\n",
      "│ 201    ┆ 33         ┆ 10         ┆ 23         ┆ … ┆ -5.565152  ┆ 0.434783 ┆ 0.30303  ┆ -0.433705 │\n",
      "│ 210    ┆ 12         ┆ 4          ┆ 8          ┆ … ┆ -9.378333  ┆ 0.5      ┆ 0.333333 ┆ -0.478585 │\n",
      "│ 211    ┆ 14         ┆ 9          ┆ 5          ┆ … ┆ -4.852143  ┆ 1.8      ┆ 0.642857 ┆ -1.796997 │\n",
      "└────────┴────────────┴────────────┴────────────┴───┴────────────┴──────────┴──────────┴───────────┘\n"
     ]
    }
   ],
   "source": [
    "df_statistics = df.group_by('Magic Number').agg(\n",
    "    pl.col('trade_positivo').count().alias('trades_total'),\n",
    "    pl.col('trade_positivo').sum().alias('trades_positivos'),\n",
    "    pl.col('trade_negativo').sum().alias('trades_negativos'),\n",
    "    pl.col('Ganancia').sum().alias('ganancia_total'),\n",
    "    pl.col('ganancia_positiva').sum().alias('ganancia_positiva'),\n",
    "    pl.col('ganancia_negativa').sum().alias('ganancia_negativa'),\n",
    "    # pl.col('Ganancia').std().alias('std_ganancia_total'),\n",
    "    # pl.col('ganancia_positiva').std().alias('std_ganancia_positiva'),\n",
    "    # pl.col('ganancia_negativa').std().alias('std_ganancia_negativa'),\n",
    "    pl.col('Ganancia').mean().alias('avg_ganancia_total'),\n",
    "    pl.col('ganancia_positiva').mean().alias('avg_ganancia_positiva'),\n",
    "    pl.col('ganancia_negativa').mean().alias('avg_ganancia_negativa'),\n",
    "    ).sort('Magic Number')\n",
    "df_statistics = df_statistics.with_columns(\n",
    "    (pl.col('trades_positivos')/pl.col('trades_negativos')).alias('pf'),\n",
    "    (pl.col('trades_positivos')/pl.col('trades_total')).alias('pct_win'),\n",
    "    (pl.col('ganancia_positiva')/pl.col('ganancia_negativa')).alias('win_loss_ratio'),\n",
    ")\n"
   ]
  },
  {
   "cell_type": "code",
   "execution_count": 36,
   "metadata": {},
   "outputs": [
    {
     "data": {
      "text/html": [
       "<div><style>\n",
       ".dataframe > thead > tr,\n",
       ".dataframe > tbody > tr {\n",
       "  text-align: right;\n",
       "  white-space: pre-wrap;\n",
       "}\n",
       "</style>\n",
       "<small>shape: (216, 13)</small><table border=\"1\" class=\"dataframe\"><thead><tr><th>Ticket</th><th>Símbolo</th><th>Volumen</th><th>Precio</th><th>Ganancia</th><th>Magic Number</th><th>Fecha/Hora</th><th>Comentario</th><th>trade_positivo</th><th>ganancia_positiva</th><th>trade_negativo</th><th>ganancia_negativa</th><th>mg</th></tr><tr><td>i64</td><td>str</td><td>f64</td><td>f64</td><td>f64</td><td>str</td><td>datetime[ms]</td><td>str</td><td>i32</td><td>f64</td><td>i32</td><td>f64</td><td>str</td></tr></thead><tbody><tr><td>635506106</td><td>&quot;EURUSD&quot;</td><td>0.01</td><td>1.04805</td><td>-5.32</td><td>&quot;90&quot;</td><td>2024-12-02 17:44:05</td><td>&quot;[sl 1.04810]&quot;</td><td>0</td><td>0.0</td><td>1</td><td>-5.32</td><td>&quot;MC_90&quot;</td></tr><tr><td>635508570</td><td>&quot;EURUSD&quot;</td><td>0.01</td><td>1.04796</td><td>5.27</td><td>&quot;99&quot;</td><td>2024-12-02 17:45:18</td><td>&quot;[tp 1.04796]&quot;</td><td>1</td><td>5.27</td><td>0</td><td>0.0</td><td>&quot;MC_99&quot;</td></tr><tr><td>636266923</td><td>&quot;EURJPY&quot;</td><td>0.01</td><td>157.64</td><td>-5.28</td><td>&quot;71&quot;</td><td>2024-12-03 11:05:01</td><td>&quot;[sl 157.632]&quot;</td><td>0</td><td>0.0</td><td>1</td><td>-5.28</td><td>&quot;MC_71&quot;</td></tr><tr><td>636278516</td><td>&quot;EURJPY&quot;</td><td>0.01</td><td>157.784</td><td>-5.28</td><td>&quot;70&quot;</td><td>2024-12-03 11:08:58</td><td>&quot;[sl 157.777]&quot;</td><td>0</td><td>0.0</td><td>1</td><td>-5.28</td><td>&quot;MC_70&quot;</td></tr><tr><td>636300886</td><td>&quot;AUDUSD&quot;</td><td>0.01</td><td>0.64984</td><td>-3.23</td><td>&quot;41&quot;</td><td>2024-12-03 11:21:34</td><td>&quot;[sl 0.64984]&quot;</td><td>0</td><td>0.0</td><td>1</td><td>-3.23</td><td>&quot;MC_41&quot;</td></tr><tr><td>&hellip;</td><td>&hellip;</td><td>&hellip;</td><td>&hellip;</td><td>&hellip;</td><td>&hellip;</td><td>&hellip;</td><td>&hellip;</td><td>&hellip;</td><td>&hellip;</td><td>&hellip;</td><td>&hellip;</td><td>&hellip;</td></tr><tr><td>644293881</td><td>&quot;XAGUSD&quot;</td><td>0.01</td><td>32.08</td><td>-8.0</td><td>&quot;201&quot;</td><td>2024-12-12 07:20:40</td><td>&quot;[sl 32.07960]&quot;</td><td>0</td><td>0.0</td><td>1</td><td>-8.0</td><td>&quot;MC_201&quot;</td></tr><tr><td>644309519</td><td>&quot;NZDJPY&quot;</td><td>0.01</td><td>88.543</td><td>-2.9</td><td>&quot;111&quot;</td><td>2024-12-12 08:32:11</td><td>&quot;[sl 88.541]&quot;</td><td>0</td><td>0.0</td><td>1</td><td>-2.9</td><td>&quot;MC_111&quot;</td></tr><tr><td>644312613</td><td>&quot;XAGUSD&quot;</td><td>0.01</td><td>32.1</td><td>8.0</td><td>&quot;200&quot;</td><td>2024-12-12 08:39:17</td><td>&quot;[tp 32.09970]&quot;</td><td>1</td><td>8.0</td><td>0</td><td>0.0</td><td>&quot;MC_200&quot;</td></tr><tr><td>644367052</td><td>&quot;NZDUSD&quot;</td><td>0.01</td><td>0.58156</td><td>-2.91</td><td>&quot;60&quot;</td><td>2024-12-12 10:08:48</td><td>&quot;[sl 0.58155]&quot;</td><td>0</td><td>0.0</td><td>1</td><td>-2.91</td><td>&quot;MC_60&quot;</td></tr><tr><td>644370181</td><td>&quot;XAUUSD&quot;</td><td>0.01</td><td>2720.09</td><td>13.6</td><td>&quot;210&quot;</td><td>2024-12-12 10:12:25</td><td>&quot;[tp 2720.063]&quot;</td><td>1</td><td>13.6</td><td>0</td><td>0.0</td><td>&quot;MC_210&quot;</td></tr></tbody></table></div>"
      ],
      "text/plain": [
       "shape: (216, 13)\n",
       "┌───────────┬─────────┬─────────┬─────────┬───┬──────────────┬──────────────┬─────────────┬────────┐\n",
       "│ Ticket    ┆ Símbolo ┆ Volumen ┆ Precio  ┆ … ┆ ganancia_pos ┆ trade_negati ┆ ganancia_ne ┆ mg     │\n",
       "│ ---       ┆ ---     ┆ ---     ┆ ---     ┆   ┆ itiva        ┆ vo           ┆ gativa      ┆ ---    │\n",
       "│ i64       ┆ str     ┆ f64     ┆ f64     ┆   ┆ ---          ┆ ---          ┆ ---         ┆ str    │\n",
       "│           ┆         ┆         ┆         ┆   ┆ f64          ┆ i32          ┆ f64         ┆        │\n",
       "╞═══════════╪═════════╪═════════╪═════════╪═══╪══════════════╪══════════════╪═════════════╪════════╡\n",
       "│ 635506106 ┆ EURUSD  ┆ 0.01    ┆ 1.04805 ┆ … ┆ 0.0          ┆ 1            ┆ -5.32       ┆ MC_90  │\n",
       "│ 635508570 ┆ EURUSD  ┆ 0.01    ┆ 1.04796 ┆ … ┆ 5.27         ┆ 0            ┆ 0.0         ┆ MC_99  │\n",
       "│ 636266923 ┆ EURJPY  ┆ 0.01    ┆ 157.64  ┆ … ┆ 0.0          ┆ 1            ┆ -5.28       ┆ MC_71  │\n",
       "│ 636278516 ┆ EURJPY  ┆ 0.01    ┆ 157.784 ┆ … ┆ 0.0          ┆ 1            ┆ -5.28       ┆ MC_70  │\n",
       "│ 636300886 ┆ AUDUSD  ┆ 0.01    ┆ 0.64984 ┆ … ┆ 0.0          ┆ 1            ┆ -3.23       ┆ MC_41  │\n",
       "│ …         ┆ …       ┆ …       ┆ …       ┆ … ┆ …            ┆ …            ┆ …           ┆ …      │\n",
       "│ 644293881 ┆ XAGUSD  ┆ 0.01    ┆ 32.08   ┆ … ┆ 0.0          ┆ 1            ┆ -8.0        ┆ MC_201 │\n",
       "│ 644309519 ┆ NZDJPY  ┆ 0.01    ┆ 88.543  ┆ … ┆ 0.0          ┆ 1            ┆ -2.9        ┆ MC_111 │\n",
       "│ 644312613 ┆ XAGUSD  ┆ 0.01    ┆ 32.1    ┆ … ┆ 8.0          ┆ 0            ┆ 0.0         ┆ MC_200 │\n",
       "│ 644367052 ┆ NZDUSD  ┆ 0.01    ┆ 0.58156 ┆ … ┆ 0.0          ┆ 1            ┆ -2.91       ┆ MC_60  │\n",
       "│ 644370181 ┆ XAUUSD  ┆ 0.01    ┆ 2720.09 ┆ … ┆ 13.6         ┆ 0            ┆ 0.0         ┆ MC_210 │\n",
       "└───────────┴─────────┴─────────┴─────────┴───┴──────────────┴──────────────┴─────────────┴────────┘"
      ]
     },
     "execution_count": 36,
     "metadata": {},
     "output_type": "execute_result"
    }
   ],
   "source": [
    "df = df.with_columns(mg=\"MC_\"+pl.col(\"Magic Number\").cast(pl.String))\n",
    "df"
   ]
  }
 ],
 "metadata": {
  "kernelspec": {
   "display_name": "pww3",
   "language": "python",
   "name": "python3"
  },
  "language_info": {
   "codemirror_mode": {
    "name": "ipython",
    "version": 3
   },
   "file_extension": ".py",
   "mimetype": "text/x-python",
   "name": "python",
   "nbconvert_exporter": "python",
   "pygments_lexer": "ipython3",
   "version": "3.10.14"
  }
 },
 "nbformat": 4,
 "nbformat_minor": 2
}
